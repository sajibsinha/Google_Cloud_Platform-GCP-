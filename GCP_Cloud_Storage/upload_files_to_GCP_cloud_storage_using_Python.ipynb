{
 "cells": [
  {
   "cell_type": "markdown",
   "metadata": {},
   "source": [
    "## Upload zipped files to GCP Cloud Storage using Python Client"
   ]
  },
  {
   "cell_type": "markdown",
   "metadata": {},
   "source": [
    "One of the very common use case in data science project is dumping your stream data to some storage for further analysis. For one of my personal project I used GCP to store those stream files. GCP cloud storage is super cheap for that purpose.\n",
    "\n",
    "Google Cloud Platform (GCP) already have great documentation on their products. In case you face difficulties this sample code might be helpful. \n",
    "\n",
    "[Here](https://cloud.google.com/storage/docs/reference/libraries#client-libraries-usage-python) is the GCP documentation on how to use the Python Storage Client \n",
    "    "
   ]
  },
  {
   "cell_type": "code",
   "execution_count": null,
   "metadata": {},
   "outputs": [],
   "source": [
    "from datetime import datetime\n",
    "import os\n",
    "import fnmatch\n",
    "from google.cloud import storage\n",
    "\n",
    "def file_upload_to_gcp(source, target):\n",
    "    \n",
    "    #here your_key.json is the JSON file that contains your all credentials \n",
    "    os.environ['GOOGLE_APPLICATION_CREDENTIALS'] = 'your_key.json'\n",
    "    \n",
    "    #instantiating the the storage client\n",
    "    client = storage.Client()\n",
    "    \n",
    "    #creating the storage bucket\n",
    "    bucket = client.get_bucket(target)\n",
    "    #In my case i am uploading tons of zipped file in .gz format\n",
    "    for file in os.listdir(source):\n",
    "        gz_source = source + os.sep + file\n",
    "        #since I am expecting only .gz files I am ignoring other types\n",
    "        if fnmatch.fnmatch(gz_source, '*.gz'):\n",
    "            path, filename = os.path.split(gz_source)\n",
    "            #files will be stored in a folder named 'CurrentYear_CurrentMonth_CurrentDay'\n",
    "            destination = datetime.today().strftime('%Y_%m_%d') + os.sep + os.path.basename(gz_source)               \n",
    "            #uploading files to GCP bucket\n",
    "            blob = bucket.blob(destination)\n",
    "            blob.upload_from_filename(gz_source)\n",
    "        else:\n",
    "            print(f'{gz_source} is not an expected .gz file')\n",
    "\n",
    "def main():\n",
    "    file_upload_to_gcp('source_folder', 'your_bucket')\n",
    "\n",
    "if __name__ == '__main__':  \n",
    "    main()\n",
    "    \n",
    "    "
   ]
  },
  {
   "cell_type": "markdown",
   "metadata": {},
   "source": [
    "#### Hope this sample code will save some of your time. Happy Uploading !!!"
   ]
  }
 ],
 "metadata": {
  "kernelspec": {
   "display_name": "Python 3",
   "language": "python",
   "name": "python3"
  },
  "language_info": {
   "codemirror_mode": {
    "name": "ipython",
    "version": 3
   },
   "file_extension": ".py",
   "mimetype": "text/x-python",
   "name": "python",
   "nbconvert_exporter": "python",
   "pygments_lexer": "ipython3",
   "version": "3.6.4"
  }
 },
 "nbformat": 4,
 "nbformat_minor": 2
}
